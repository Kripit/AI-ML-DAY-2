{
 "cells": [
  {
   "cell_type": "markdown",
   "id": "62faebc1",
   "metadata": {},
   "source": [
    "# 🍽️ YOLOv8 - Food Classification (Using Our First Pretrained Model)"
   ]
  },
  {
   "cell_type": "markdown",
   "id": "f0b7227a",
   "metadata": {},
   "source": [
    "**YOLOv8** is an advanced CNN-based model used for object detection and classification.  \n",
    "We'll use its **classification head** (`yolov8n-cls.pt`), pretrained on ImageNet,  \n",
    "to fine-tune on a **subset of the Food-101 dataset** with 5 classes for high-speed, high-accuracy food recognition."
   ]
  },
  {
   "cell_type": "markdown",
   "id": "c2841d75",
   "metadata": {},
   "source": [
    "### 🎯 Goal  \n",
    "Build a production-grade food classification system using YOLOv8’s classification head.  \n",
    "We’ll fine-tune it on the following **5 food classes**:\n",
    "- pizza  \n",
    "- grilled_chicken  \n",
    "- sushi  \n",
    "- ice_cream  \n",
    "- hamburger  \n",
    "\n",
    "We'll use **advanced training techniques** to boost performance."
   ]
  },
  {
   "cell_type": "markdown",
   "id": "c52f5586",
   "metadata": {},
   "source": [
    "### ⚙️ Techniques Used  \n",
    "- **Albumentations**: Advanced image augmentation for better generalization  \n",
    "- **Cosine Annealing LR**: Smooth learning rate decay  \n",
    "- **Model Ensembling** *(optional)*: Combines predictions for higher accuracy  \n"
   ]
  },
  {
   "cell_type": "markdown",
   "id": "fe8e5cd2",
   "metadata": {},
   "source": [
    "### 📁 Directory Structure  \n",
    "```\n",
    "📦 Project Root\n",
    "├── Food_Classification_YOLOv8_Module12.ipynb\n",
    "├── generate_yaml.py\n",
    "├── food-101/\n",
    "│   ├── images/\n",
    "│   │   ├── pizza/\n",
    "│   │   ├── grilled_chicken/\n",
    "│   │   ├── sushi/\n",
    "│   │   ├── ice_cream/\n",
    "│   │   ├── hamburger/\n",
    "│   ├── meta/\n",
    "│   └── food101.yaml\n",
    "```"
   ]
  },
  {
   "cell_type": "markdown",
   "id": "0a87bd97",
   "metadata": {},
   "source": [
    "### 📦 Install Requirements  \n",
    "Make sure to install all dependencies before running the code:\n",
    "```bash\n",
    "pip install torch==2.4.1 torchvision==0.19.1\n",
    "pip install opencv-python-headless==4.10.0\n",
    "pip install ultralytics==8.2.28\n",
    "pip install albumentations==1.4.8\n",
    "```"
   ]
  },
  {
   "cell_type": "markdown",
   "id": "cb8cf1b7",
   "metadata": {},
   "source": [
    "### 🔧 Basic Setup (with PyTorch + YOLOv8)"
   ]
  },
  {
   "cell_type": "code",
   "execution_count": null,
   "id": "e8922cea",
   "metadata": {},
   "outputs": [],
   "source": [
    "# I generally use PyTorch so I can understand exactly what’s happening\n",
    "\n",
    "import torch \n",
    "import torch.nn as nn \n",
    "import torch.optim as optim \n",
    "from torch.optim.lr_scheduler import CosineAnnealingLR\n",
    "import torchvision.datasets as datasets\n",
    "import torchvision.transforms as transforms\n",
    "from torch.utils.data import DataLoader, Dataset, Subset \n",
    "import cv2\n",
    "import numpy as np\n",
    "import logging \n",
    "import os \n",
    "import albumentations as A\n",
    "from typing import List, Optional, Dict, Tuple\n"
   ]
  },
  {
   "cell_type": "code",
   "execution_count": null,
   "id": "c08b7efb",
   "metadata": {},
   "outputs": [],
   "source": [
    "# logging setup  to track executions and errors\n",
    "\n",
    "logging.basicConfig(level=logging.INFO, format='%(asctime)s - %(levelname)s - %(message)s',\n",
    "                    handlers = [\n",
    "                        logging.StreamHandler(), #to show logs in console \n",
    "                        logging.FileHandler('yolo_training.log') # save logs to a file\n",
    "                    ])\n",
    "\n",
    "logger = logging.getLogger(__name__)"
   ]
  },
  {
   "cell_type": "code",
   "execution_count": null,
   "id": "184efd71",
   "metadata": {},
   "outputs": [],
   "source": [
    "# configurations class for project settings\n",
    "\n",
    "class Config:\n",
    "    def __init__(self):\n",
    "        self.data_dir = \"./foof/food-101\"\n",
    "        self.classes = ['pizza','grilled_chicken','sushi','ice_cream','hamburger']\n",
    "        self.max_images_per_class = 100\n",
    "        self.test_images_per_class = 20\n",
    "        self.epochs = 18\n",
    "        self.batch_size = 5 # batch size optimized for gpu \n",
    "        self.img_size = 224 # image size for yolo v8 \n",
    "        self.mode_path_nano = \"yolov8n_food_classifier.pt\" #nano model save path \n",
    "        self.model_path_small = \"yolov8s_food_classifier.pt\" #small model save path \n",
    "        self.yaml_path = os.path.join(self.data_dir, 'food101.yaml')\n",
    "        self.device = torch.device(\"cuda\" if torch.cuda.is_available() else \"cpu\")\n",
    "        self.lr = 0.001\n",
    "        logging.info(f\"Using device : {self.device}\")\n"
   ]
  }
 ],
 "metadata": {},
 "nbformat": 4,
 "nbformat_minor": 5
}
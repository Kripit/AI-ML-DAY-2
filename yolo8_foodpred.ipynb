{
 "cells": [
  {
   "cell_type": "markdown",
   "id": "f77a21e1",
   "metadata": {},
   "source": [
    "# YOLOV8( Using Our First Pretrained Model )\n",
    "** YOLOv8 is  a advanced CNN- based model that used for object detection and classifications , we will use its classification head that is trained on imagenet with pretrained wieghts , famous for its speed and accuracy in object detection **\n",
    "\n",
    "\n",
    "* Goal: We’re going to build a production-grade food classification system using the classification head of YOLOv8 (yolov8n-cls.pt). The model will be fine-tuned on 5 selected classes from the Food-101 dataset — pizza, grilled_chicken, sushi, ice_cream, and hamburger. We'll enhance the pretrained model using advanced training techniques to boost its performance.\n",
    "\n",
    "* Albumentations : Advanced image augementations library that gives complex transformations \n",
    "\n",
    "* Cosine Annealing LR : Learning rate scheduler that just LR smoothly \n",
    "\n",
    "* Model Ensembling: Combines multiple mdels predictons for higher accuracy\n",
    "\n",
    "* we will take 5 classes ( pizza, grilled_chicken , sushi , ice_cream , hamburger)\n",
    "\n",
    "# \n",
    "├── Food_Classification_YOLOv8_Module12.ipynb\n",
    "├── generate_yaml.py\n",
    "├── food-101/\n",
    "│   ├── images/\n",
    "│   │   ├── pizza/\n",
    "│   │   ├── grilled_chicken/\n",
    "│   │   ├── sushi/\n",
    "│   │   ├── ice_cream/\n",
    "│   │   ├── hamburger/\n",
    "│   ├── meta/\n",
    "│   ├── food101.yaml\n",
    "\n",
    "\n",
    "\n",
    "* Make sure to install this before writing the code \n",
    "\n",
    "pip install torch==2.4.1 torchvision==0.19.1 opencv-python-headless==4.10.0 ultralytics==8.2.28 albumentations==1.4.8\n",
    "\n",
    "*  The project uses the Food-101 dataset, a large-scale benchmark dataset for food classification. "
   ]
  },
  {
   "cell_type": "code",
   "execution_count": null,
   "id": "4b0373ac",
   "metadata": {
    "vscode": {
     "languageId": "plaintext"
    }
   },
   "outputs": [],
   "source": [
    "pip install torch==2.4.1 torchvision==0.19.1 opencv-python-headless==4.10.0 ultralytics==8.2.28 albumentations==1.4.8"
   ]
  },
  {
   "cell_type": "markdown",
   "id": "67e9cfce",
   "metadata": {},
   "source": [
    "# This is the basic setup of any model training \n",
    "\n",
    "* I generally use pytorch so I can understand what exactly is happening in the code "
   ]
  },
  {
   "cell_type": "code",
   "execution_count": null,
   "id": "75657013",
   "metadata": {
    "vscode": {
     "languageId": "plaintext"
    }
   },
   "outputs": [],
   "source": [
    "import torch \n",
    "import torch.nn as nn \n",
    "import torch.optim as optim \n",
    "from torch.optim.lr_scheduler import CosineAnnealingLR\n",
    "import torchvision.datasets as datasets\n",
    "import torchvision.transforms as transforms\n",
    "from torch.utils.data import DataLoader, Dataset, Subset \n",
    "import cv2\n",
    "import numpy as np\n",
    "import logging \n",
    "import os \n",
    "import albumentations as A\n",
    "from typing import List, Optional, Dict, Tuple\n",
    "\n",
    "# logging setup  to track executions and errors\n",
    "\n",
    "logging.basicConfig(level=logging.INFO, format='%(asctime)s - %(levelname)s - %(message)s',\n",
    "                    handlers = [\n",
    "                        logging.StreamHandler(), #to show logs in console \n",
    "                        logging.FileHandler('yolo_training.log') # save logs to a file\n",
    "                    ] )\n",
    "\n",
    "logger = logging.getLogger(__name__)\n",
    "\n",
    "# configurations class for project settings \n",
    "\n",
    "class Config:\n",
    "    def __init__(self):\n",
    "        self.data_dir = \"./foof/food-101\"\n",
    "        self.classes = ['pizza','grilled_chicken','sushi','ice_cream','hamburger']\n",
    "        self.max_images_per_class = 100\n",
    "        self.test_images_per_class = 20\n",
    "        self.epochs = 18\n",
    "        self.batch_size = 5 # batch size optimized for gpu \n",
    "        self.img_size = 224 # image size for yolo v8 \n",
    "        self.mode_path_nano = \"yolov8n_food_classifier.pt\" #nano model save path \n",
    "        self.model_path_small = \"yolov8s_food_classifier.pt\" #small model save path \n",
    "        self.yaml_path = os.path.join(self.data_dir, 'food101.yaml')\n",
    "        self.device = torch.device(\"cuda\" if torch.cuda.is_available() else \"cpu\")\n",
    "        self.lr = 0.001\n",
    "        logging.info(f\"Using device : {self.device}\")\n",
    "       "
   ]
  }
 ],
 "metadata": {
  "language_info": {
   "name": "python"
  }
 },
 "nbformat": 4,
 "nbformat_minor": 5
}
